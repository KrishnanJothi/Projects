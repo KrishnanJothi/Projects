{
 "cells": [
  {
   "cell_type": "code",
   "execution_count": 3,
   "metadata": {},
   "outputs": [
    {
     "name": "stdout",
     "output_type": "stream",
     "text": [
      "0.9221200902259601\n"
     ]
    },
    {
     "data": {
      "image/png": "[encoded data removed]",
      "text/plain": [
       "<Figure size 864x360 with 1 Axes>"
      ]
     },
     "metadata": {
      "needs_background": "light"
     },
     "output_type": "display_data"
    }
   ],
   "source": [
    "import pandas as pd\n",
    "from string import digits\n",
    "from sklearn.cluster import KMeans\n",
    "from sklearn import metrics\n",
    "import numpy as np\n",
    "from sentence_transformers import SentenceTransformer, LoggingHandler, losses, util, InputExample\n",
    "\n",
    "\n",
    "def purity_score(y_true, y_pred):\n",
    "    # compute contingency matrix (also called confusion matrix)\n",
    "    contingency_matrix = metrics.cluster.contingency_matrix(y_true, y_pred)\n",
    "    # return purity\n",
    "    return np.sum(np.amax(contingency_matrix, axis=0)) / np.sum(contingency_matrix) \n",
    "\n",
    "\n",
    "# selecting sentences with a particular group_id\n",
    "def sub_groups(df, group_id):\n",
    "    df_1 = df[['grp_id1','sentence1']]\n",
    "    df_2 = df[['grp_id2','sentence2']]\n",
    "\n",
    "    df_1=df_1.loc[df['grp_id1'] == group_id]\n",
    "    df_1=df_1.drop_duplicates('sentence1')\n",
    "    df_1.columns=['grp_id','sentence'] \n",
    "\n",
    "    df_2=df_2.loc[df['grp_id2'] == group_id]\n",
    "    df_2=df_2.drop_duplicates('sentence2')\n",
    "    df_2.columns=['grp_id','sentence'] \n",
    "\n",
    "    return pd.concat([df_1,df_2]).drop_duplicates().reset_index(drop=True)\n",
    "\n",
    "\n",
    "# reading tsv\n",
    "df=pd.read_csv('datasets/gold_dataset2.tsv', delimiter=\"\\t\")\n",
    "\n",
    "# selecting the use defined groups of a term\n",
    "df_term_group1 = df['grp_id1'].drop_duplicates()\n",
    "df_term_group2 = df['grp_id2'].drop_duplicates()\n",
    "df_term_groups = list(pd.concat([df_term_group1,df_term_group2]).drop_duplicates().reset_index(drop=True))\n",
    "\n",
    "# loading the pretrained model\n",
    "model = SentenceTransformer('distilroberta-base-paraphrase-v1')\n",
    "\n",
    "remove_digits = str.maketrans('', '', digits)\n",
    "\n",
    "\n",
    "df_term = df['term'].drop_duplicates().reset_index(drop=True)\n",
    "purity_df=[]\n",
    "for i in df_term:\n",
    "    group_names=[]   # list of groups for each term\n",
    "    cluster_number=0  # no.of clusters for each term\n",
    "    for j in df_term_groups:\n",
    "        if i.translate(remove_digits) == j.translate(remove_digits):\n",
    "            cluster_number += 1\n",
    "            group_names.append(j)\n",
    "    df_on_term=pd.DataFrame()\n",
    "    \n",
    "    # grouping all the sentences that belongs to the same term\n",
    "    if group_names:\n",
    "        for k in group_names:\n",
    "                df_on_term=pd.concat([df_on_term,sub_groups(df, k)]).drop_duplicates().reset_index(drop=True)  \n",
    "        \n",
    "        # Encoding the sentence\n",
    "        df_on_term['embedding'] = [model.encode(i) for i in df_on_term['sentence']]  \n",
    "        kmeans = KMeans(n_clusters=cluster_number, random_state=0).fit(list(df_on_term['embedding']))  # K means clustering\n",
    "        purity = purity_score(list(df_on_term['grp_id']),kmeans.labels_) # Purity calculation\n",
    "        purity_df.append([i,purity])\n",
    "\n",
    "plot_df=pd.DataFrame(purity_df, columns=['terms','Purity of K-means Clusters'])\n",
    "print(np.mean(plot_df['Purity of K-means Clusters']))\n",
    "fig=plot_df.plot.bar(x='terms', y='Purity of K-means Clusters',figsize=(12, 5), rot=90, color='red').get_figure()\n",
    "fig.savefig(\"plots/clustering/purity.jpg\",bbox_inches='tight')\n",
    "\n"
   ]
  },
  {
   "cell_type": "code",
   "execution_count": 21,
   "metadata": {},
   "outputs": [
    {
     "name": "stdout",
     "output_type": "stream",
     "text": [
      "True\n"
     ]
    }
   ],
   "source": [
    "print('device' in list(plot_df['terms']))"
   ]
  },
  {
   "cell_type": "code",
   "execution_count": 28,
   "metadata": {},
   "outputs": [
    {
     "name": "stdout",
     "output_type": "stream",
     "text": [
      "['', 'accuracy', 'alarm', 'application_process', 'asset', 'audit', 'ball grid array', 'bus coupler', 'client', 'confidentiality', 'device', 'diversity', 'domain', 'double_insulation', 'earth', 'entity', 'environment', 'event', 'extended_link', 'fault', 'FIRE', 'frame', 'group', 'half-value layer', 'hazard', 'incident', 'integrity', 'node', 'process', 'radiator', 'RADIOGRAPHY', 'redundancy', 'Replace_error', 'Replace_message', 'Replace_role', 'resource', 'security', 'supplementary_insulation', 'system', 'type test', '_3_dB_bandwidth']\n"
     ]
    }
   ],
   "source": [
    "import os\n",
    "rootdir = 'datasets_labeled/removed'\n",
    "\n",
    "terms = []\n",
    "for [subdir, dirs, files], [subdir1, dirs1, files1] in zip(os.walk(rootdir), os.walk('datasets/removed')):\n",
    "    terms.append(str(subdir1[25:]))\n",
    "\n",
    "print(terms)"
   ]
  },
  {
   "cell_type": "code",
   "execution_count": 33,
   "metadata": {},
   "outputs": [
    {
     "name": "stdout",
     "output_type": "stream",
     "text": [
      "set()\n"
     ]
    }
   ],
   "source": []
  },
  {
   "cell_type": "code",
   "execution_count": 48,
   "metadata": {},
   "outputs": [
    {
     "data": {
      "text/html": [
       "<div>\n",
       "<style scoped>\n",
       "    .dataframe tbody tr th:only-of-type {\n",
       "        vertical-align: middle;\n",
       "    }\n",
       "\n",
       "    .dataframe tbody tr th {\n",
       "        vertical-align: top;\n",
       "    }\n",
       "\n",
       "    .dataframe thead th {\n",
       "        text-align: right;\n",
       "    }\n",
       "</style>\n",
       "<table border=\"1\" class=\"dataframe\">\n",
       "  <thead>\n",
       "    <tr style=\"text-align: right;\">\n",
       "      <th></th>\n",
       "      <th>0</th>\n",
       "    </tr>\n",
       "  </thead>\n",
       "  <tbody>\n",
       "    <tr>\n",
       "      <th>2</th>\n",
       "      <td>application_process</td>\n",
       "    </tr>\n",
       "    <tr>\n",
       "      <th>10</th>\n",
       "      <td>diversity</td>\n",
       "    </tr>\n",
       "    <tr>\n",
       "      <th>12</th>\n",
       "      <td>double_insulation</td>\n",
       "    </tr>\n",
       "    <tr>\n",
       "      <th>25</th>\n",
       "      <td>integrity</td>\n",
       "    </tr>\n",
       "    <tr>\n",
       "      <th>31</th>\n",
       "      <td>Replace_error</td>\n",
       "    </tr>\n",
       "    <tr>\n",
       "      <th>33</th>\n",
       "      <td>Replace_role</td>\n",
       "    </tr>\n",
       "    <tr>\n",
       "      <th>34</th>\n",
       "      <td>resource</td>\n",
       "    </tr>\n",
       "  </tbody>\n",
       "</table>\n",
       "</div>"
      ],
      "text/plain": [
       "                      0\n",
       "2   application_process\n",
       "10            diversity\n",
       "12    double_insulation\n",
       "25            integrity\n",
       "31        Replace_error\n",
       "33         Replace_role\n",
       "34             resource"
      ]
     },
     "execution_count": 48,
     "metadata": {},
     "output_type": "execute_result"
    }
   ],
   "source": [
    "pd.concat([plot_df['terms'],pd.DataFrame(terms[1:])]).drop_duplicates(keep=False)"
   ]
  },
  {
   "cell_type": "code",
   "execution_count": null,
   "metadata": {},
   "outputs": [],
   "source": []
  }
 ],
 "metadata": {
  "kernelspec": {
   "display_name": "Python 3",
   "language": "python",
   "name": "python3"
  },
  "language_info": {
   "codemirror_mode": {
    "name": "ipython",
    "version": 3
   },
   "file_extension": ".py",
   "mimetype": "text/x-python",
   "name": "python",
   "nbconvert_exporter": "python",
   "pygments_lexer": "ipython3",
   "version": "3.8.5"
  }
 },
 "nbformat": 4,
 "nbformat_minor": 4
}
