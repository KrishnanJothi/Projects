{
 "cells": [
  {
   "cell_type": "code",
   "execution_count": 2,
   "metadata": {},
   "outputs": [],
   "source": [
    "import pandas\n",
    "from pandas import read_csv\n",
    "\n",
    "dataset_dir = 'datasets/'\n",
    "\n",
    "\n",
    "\n",
    "def gen_dataframe(filename, split):\n",
    "    file = dataset_dir + '/' + filename\n",
    "    col_list = [\"term\",\"grp_id1\",\"grp_id2\",\"sim\", \"definition1\", \"definition2\"]\n",
    "    dataframe = read_csv(file, usecols=col_list)\n",
    "    dataframe[\"split\"] = split\n",
    "    #dataframe.loc[dataframe[\"sim\"] == \"1\", \"sim\"] = [1.0]\n",
    "    #dataframe.loc[dataframe[\"sim\"] == \"A\", \"sim\"] = [0.8]\n",
    "    #dataframe.loc[dataframe[\"sim\"] == \"B\", \"sim\"] = [0.6]\n",
    "    #dataframe.loc[dataframe[\"sim\"] == \"C\", \"sim\"] = [0.4]\n",
    "    #dataframe.loc[dataframe[\"sim\"] == \"D\", \"sim\"] = [0.0]\n",
    "    dataframe.columns = [\"term\",\"grp_id1\",\"grp_id2\",'sentence1', 'sentence2', 'score', 'split']\n",
    "    \n",
    "    dataframe[\"score\"] = [str(i).replace(\",\", \"\") for i in dataframe[\"score\"]]\n",
    "    \n",
    "    #dataframe['score']=dataframe['score'].to_string()\n",
    "    \n",
    "   \n",
    "    return dataframe\n",
    "\n",
    "\n",
    "frames = [gen_dataframe(\"train_set.csv\", \"train\"), gen_dataframe(\"test_set.csv\", \"test\"), gen_dataframe(\"dev_set.csv\", \"dev\")]\n",
    "combined = pandas.concat(frames)\n",
    "combined[\"index\"] = range(0, 0+len(combined))\n",
    "combined.set_index(\"index\", inplace=True)\n",
    "combined.to_csv(dataset_dir + '/' + \"gold_dataset2.tsv\", sep=\"\\t\", index=False)\n"
   ]
  },
  {
   "cell_type": "code",
   "execution_count": null,
   "metadata": {},
   "outputs": [],
   "source": []
  },
  {
   "cell_type": "code",
   "execution_count": null,
   "metadata": {},
   "outputs": [],
   "source": []
  }
 ],
 "metadata": {
  "kernelspec": {
   "display_name": "Python 3",
   "language": "python",
   "name": "python3"
  },
  "language_info": {
   "codemirror_mode": {
    "name": "ipython",
    "version": 3
   },
   "file_extension": ".py",
   "mimetype": "text/x-python",
   "name": "python",
   "nbconvert_exporter": "python",
   "pygments_lexer": "ipython3",
   "version": "3.8.5"
  }
 },
 "nbformat": 4,
 "nbformat_minor": 4
}
